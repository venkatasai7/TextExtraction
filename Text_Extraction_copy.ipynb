{
  "nbformat": 4,
  "nbformat_minor": 0,
  "metadata": {
    "colab": {
      "provenance": [],
      "include_colab_link": true
    },
    "kernelspec": {
      "name": "python3",
      "display_name": "Python 3"
    },
    "language_info": {
      "name": "python"
    },
    "accelerator": "TPU"
  },
  "cells": [
    {
      "cell_type": "markdown",
      "metadata": {
        "id": "view-in-github",
        "colab_type": "text"
      },
      "source": [
        "<a href=\"https://colab.research.google.com/github/venkatasai7/TextExtraction/blob/main/Text_Extraction_copy.ipynb\" target=\"_parent\"><img src=\"https://colab.research.google.com/assets/colab-badge.svg\" alt=\"Open In Colab\"/></a>"
      ]
    },
    {
      "cell_type": "code",
      "metadata": {
        "id": "h1u388ECMe0Y",
        "colab": {
          "base_uri": "https://localhost:8080/"
        },
        "outputId": "33059336-1cc3-4c34-dabe-364675a7713f"
      },
      "source": [
        "\n",
        "!sudo apt install tesseract-ocr\n",
        "!pip install pytesseract\n",
        "\n"
      ],
      "execution_count": 1,
      "outputs": [
        {
          "output_type": "stream",
          "name": "stdout",
          "text": [
            "Reading package lists... Done\n",
            "Building dependency tree... Done\n",
            "Reading state information... Done\n",
            "The following additional packages will be installed:\n",
            "  tesseract-ocr-eng tesseract-ocr-osd\n",
            "The following NEW packages will be installed:\n",
            "  tesseract-ocr tesseract-ocr-eng tesseract-ocr-osd\n",
            "0 upgraded, 3 newly installed, 0 to remove and 24 not upgraded.\n",
            "Need to get 4,816 kB of archives.\n",
            "After this operation, 15.6 MB of additional disk space will be used.\n",
            "Get:1 http://archive.ubuntu.com/ubuntu jammy/universe amd64 tesseract-ocr-eng all 1:4.00~git30-7274cfa-1.1 [1,591 kB]\n",
            "Get:2 http://archive.ubuntu.com/ubuntu jammy/universe amd64 tesseract-ocr-osd all 1:4.00~git30-7274cfa-1.1 [2,990 kB]\n",
            "Get:3 http://archive.ubuntu.com/ubuntu jammy/universe amd64 tesseract-ocr amd64 4.1.1-2.1build1 [236 kB]\n",
            "Fetched 4,816 kB in 3s (1,589 kB/s)\n",
            "debconf: unable to initialize frontend: Dialog\n",
            "debconf: (No usable dialog-like program is installed, so the dialog based frontend cannot be used. at /usr/share/perl5/Debconf/FrontEnd/Dialog.pm line 78, <> line 3.)\n",
            "debconf: falling back to frontend: Readline\n",
            "debconf: unable to initialize frontend: Readline\n",
            "debconf: (This frontend requires a controlling tty.)\n",
            "debconf: falling back to frontend: Teletype\n",
            "dpkg-preconfigure: unable to re-open stdin: \n",
            "Selecting previously unselected package tesseract-ocr-eng.\n",
            "(Reading database ... 121654 files and directories currently installed.)\n",
            "Preparing to unpack .../tesseract-ocr-eng_1%3a4.00~git30-7274cfa-1.1_all.deb ...\n",
            "Unpacking tesseract-ocr-eng (1:4.00~git30-7274cfa-1.1) ...\n",
            "Selecting previously unselected package tesseract-ocr-osd.\n",
            "Preparing to unpack .../tesseract-ocr-osd_1%3a4.00~git30-7274cfa-1.1_all.deb ...\n",
            "Unpacking tesseract-ocr-osd (1:4.00~git30-7274cfa-1.1) ...\n",
            "Selecting previously unselected package tesseract-ocr.\n",
            "Preparing to unpack .../tesseract-ocr_4.1.1-2.1build1_amd64.deb ...\n",
            "Unpacking tesseract-ocr (4.1.1-2.1build1) ...\n",
            "Setting up tesseract-ocr-eng (1:4.00~git30-7274cfa-1.1) ...\n",
            "Setting up tesseract-ocr-osd (1:4.00~git30-7274cfa-1.1) ...\n",
            "Setting up tesseract-ocr (4.1.1-2.1build1) ...\n",
            "Processing triggers for man-db (2.10.2-1) ...\n",
            "Collecting pytesseract\n",
            "  Downloading pytesseract-0.3.10-py3-none-any.whl (14 kB)\n",
            "Requirement already satisfied: packaging>=21.3 in /usr/local/lib/python3.10/dist-packages (from pytesseract) (23.2)\n",
            "Requirement already satisfied: Pillow>=8.0.0 in /usr/local/lib/python3.10/dist-packages (from pytesseract) (9.4.0)\n",
            "Installing collected packages: pytesseract\n",
            "Successfully installed pytesseract-0.3.10\n"
          ]
        }
      ]
    },
    {
      "cell_type": "markdown",
      "metadata": {
        "id": "HHCOl47-qv3K"
      },
      "source": [
        "installing the package pytesseract into this colab\n"
      ]
    },
    {
      "cell_type": "code",
      "metadata": {
        "colab": {
          "base_uri": "https://localhost:8080/"
        },
        "id": "Oeptg53KbvwK",
        "outputId": "ba90743d-c7b4-4e63-c1a9-516030ba755a"
      },
      "source": [
        "! pip install XlsxWriter"
      ],
      "execution_count": 2,
      "outputs": [
        {
          "output_type": "stream",
          "name": "stdout",
          "text": [
            "Collecting XlsxWriter\n",
            "  Downloading XlsxWriter-3.1.9-py3-none-any.whl (154 kB)\n",
            "\u001b[2K     \u001b[90m━━━━━━━━━━━━━━━━━━━━━━━━━━━━━━━━━━━━━━━━\u001b[0m \u001b[32m154.8/154.8 kB\u001b[0m \u001b[31m928.2 kB/s\u001b[0m eta \u001b[36m0:00:00\u001b[0m\n",
            "\u001b[?25hInstalling collected packages: XlsxWriter\n",
            "Successfully installed XlsxWriter-3.1.9\n"
          ]
        }
      ]
    },
    {
      "cell_type": "markdown",
      "metadata": {
        "id": "KdV8rmdhftaP"
      },
      "source": [
        "Installing XLSXWRITER"
      ]
    },
    {
      "cell_type": "code",
      "metadata": {
        "id": "yEYpX1MtNTud"
      },
      "source": [
        "import pytesseract\n",
        "from PIL import Image"
      ],
      "execution_count": 3,
      "outputs": []
    },
    {
      "cell_type": "markdown",
      "metadata": {
        "id": "I105ixuuqqom"
      },
      "source": [
        "importing tesseract package"
      ]
    },
    {
      "cell_type": "code",
      "metadata": {
        "id": "G5J6fY_im5vX"
      },
      "source": [
        "import os\n",
        "if( not os.path.isdir('/content/images')):\n",
        "  directory = \"images\"\n",
        "  parent_dir = '/content/'\n",
        "  path = os.path.join(parent_dir, directory)\n",
        "  os.mkdir(path)"
      ],
      "execution_count": 4,
      "outputs": []
    },
    {
      "cell_type": "code",
      "source": [
        "#After running above code a folder is created\n",
        "# Drag and drop all the images into the \"images\" folder"
      ],
      "metadata": {
        "id": "VA3lg6axc1tU"
      },
      "execution_count": null,
      "outputs": []
    },
    {
      "cell_type": "markdown",
      "metadata": {
        "id": "iuJ3l_C_f4Mn"
      },
      "source": [
        "UPLOAD all images to created \"images\" folder"
      ]
    },
    {
      "cell_type": "code",
      "metadata": {
        "id": "E3yh1EJWfnlG"
      },
      "source": [
        "arr = os.listdir('/content/images')\n",
        "images=[]\n",
        "for i in arr:\n",
        "  images.append('/content/images/'+str(i))\n",
        "#print(images)"
      ],
      "execution_count": 5,
      "outputs": []
    },
    {
      "cell_type": "code",
      "source": [
        "print(images)"
      ],
      "metadata": {
        "colab": {
          "base_uri": "https://localhost:8080/"
        },
        "id": "KNs-xa4SEwtl",
        "outputId": "a4896e4c-23c8-4228-f479-1181745e0779"
      },
      "execution_count": 8,
      "outputs": [
        {
          "output_type": "stream",
          "name": "stdout",
          "text": [
            "['/content/images/Idcard2.png', '/content/images/idcard1.png', '/content/images/Idcard4.png', '/content/images/idcard3.png']\n"
          ]
        }
      ]
    },
    {
      "cell_type": "code",
      "source": [
        "images.remove('/content/images/.ipynb_checkpoints')"
      ],
      "metadata": {
        "id": "_zm4RINHGBg7"
      },
      "execution_count": 7,
      "outputs": []
    },
    {
      "cell_type": "markdown",
      "metadata": {
        "id": "ZLD9vwgfq6yh"
      },
      "source": [
        "input the image path from which the text is to be extracted\n"
      ]
    },
    {
      "cell_type": "code",
      "metadata": {
        "id": "F4PZ0DxgnDLg",
        "colab": {
          "base_uri": "https://localhost:8080/"
        },
        "outputId": "f02670e1-ff46-4af1-ebc3-be1354fc2707"
      },
      "source": [
        "for i in images:\n",
        "  extracted_Info = list(pytesseract.image_to_string(Image.open(i)))\n",
        "  print(extracted_Info)"
      ],
      "execution_count": 9,
      "outputs": [
        {
          "output_type": "stream",
          "name": "stdout",
          "text": [
            "['N', 'a', 'm', 'e', ' ', ':', ' ', 'R', 'o', 'h', 'i', 't', '\\n', 'A', 'g', 'e', ' ', ':', ' ', '2', '2', '\\n', 'P', 'h', 'o', 'n', 'e', ' ', 'n', 'u', 'm', 'b', 'e', 'r', ' ', ':', ' ', '9', '3', '9', '3', '3', '2', '5', '4', '4', '6', '\\n', '\\n', 'S', 'e', 'x', ' ', ':', ' ', 'M', 'a', 'l', 'e', '\\n', '\\x0c']\n",
            "['N', 'a', 'm', 'e', ' ', ':', ' ', 'V', 'e', 'n', 'k', 'a', 't', 'a', ' ', 'S', 'a', 'i', ' ', 'K', '\\n', 'A', 'g', 'e', ' ', ':', ' ', '2', '3', '\\n', 'P', 'h', 'o', 'n', 'e', ' ', 'n', 'u', 'm', 'b', 'e', 'r', ' ', ':', ' ', '8', '5', '2', '0', '0', '0', '0', '7', '0', '5', '\\n', '\\n', 'S', 'e', 'x', ' ', ':', ' ', 'M', 'a', 'l', 'e', '\\n', '\\x0c']\n",
            "['N', 'a', 'm', 'e', ' ', ':', ' ', 'S', 'a', 'm', 'e', 'e', 'r', 'a', '\\n', 'A', 'g', 'e', ':', ' ', '2', '1', '\\n', 'P', 'h', 'o', 'n', 'e', ' ', 'n', 'u', 'm', 'b', 'e', 'r', ' ', ':', ' ', '2', '8', '9', '2', '3', '1', '2', '3', '\\n', '\\n', 'S', 'e', 'x', ' ', ':', ' ', 'F', 'e', 'm', 'a', 'l', 'e', '\\n', '\\x0c']\n",
            "['N', 'a', 'm', 'e', ' ', ':', ' ', 'K', 'a', 'r', 't', 'h', 'i', 'k', 'a', '\\n', 'A', 'g', 'e', ':', ' ', '2', '4', '\\n', 'P', 'h', 'o', 'n', 'e', ' ', 'n', 'u', 'm', 'b', 'e', 'r', ' ', ':', ' ', '9', '3', '2', '3', '5', '6', '2', '5', '3', '4', '4', '6', '\\n', '\\n', 'S', 'e', 'x', ' ', ':', ' ', 'F', 'e', 'm', 'a', 'l', 'e', '\\n', '\\x0c']\n"
          ]
        }
      ]
    },
    {
      "cell_type": "code",
      "metadata": {
        "id": "72IKJH5qbX3F"
      },
      "source": [
        "  import xlsxwriter"
      ],
      "execution_count": 10,
      "outputs": []
    },
    {
      "cell_type": "code",
      "metadata": {
        "id": "_IoSA4lNEEed",
        "colab": {
          "base_uri": "https://localhost:8080/"
        },
        "outputId": "3caddb33-f37c-4c0b-dc6b-7ad4634ea904"
      },
      "source": [
        "outWorkbook= xlsxwriter.Workbook(\"out.xlsx\")\n",
        "outSheet=outWorkbook.add_worksheet()\n",
        "row=1\n",
        "values=[]\n",
        "for j in images:\n",
        "  l= list(pytesseract.image_to_string(Image.open(j)))\n",
        "  word = ''\n",
        "  key = []\n",
        "  value = []\n",
        "  for i in range(len(l)):\n",
        "      word += l[i]\n",
        "      length = len(word)\n",
        "      if word[length-1] == '\\n':\n",
        "          word = word[0:-1]\n",
        "          word=word.strip()\n",
        "          value.append(word)\n",
        "          word = ''\n",
        "      elif word[length-1] == ':':\n",
        "          word = word[0:-1]\n",
        "          word=word.strip()\n",
        "          key.append(word)\n",
        "          word = ''\n",
        "\n",
        "\n",
        "  key = [i for i in key if i != '']\n",
        "  value = [i for i in value if i != '']\n",
        "\n",
        "  print('KEYS : ',key,'\\nVALUES : ',value)\n",
        "  for i in range(len(key)):\n",
        "    outSheet.write(0,i,key[i])\n",
        "  for i in range(len(value)):\n",
        "    outSheet.write(row,i,value[i])\n",
        "  row+=1\n",
        "outWorkbook.close()\n"
      ],
      "execution_count": 11,
      "outputs": [
        {
          "output_type": "stream",
          "name": "stdout",
          "text": [
            "KEYS :  ['Name', 'Age', 'Phone number', 'Sex'] \n",
            "VALUES :  ['Rohit', '22', '9393325446', 'Male']\n",
            "KEYS :  ['Name', 'Age', 'Phone number', 'Sex'] \n",
            "VALUES :  ['Venkata Sai K', '23', '8520000705', 'Male']\n",
            "KEYS :  ['Name', 'Age', 'Phone number', 'Sex'] \n",
            "VALUES :  ['Sameera', '21', '28923123', 'Female']\n",
            "KEYS :  ['Name', 'Age', 'Phone number', 'Sex'] \n",
            "VALUES :  ['Karthika', '24', '932356253446', 'Female']\n"
          ]
        }
      ]
    },
    {
      "cell_type": "markdown",
      "source": [
        "# New Section"
      ],
      "metadata": {
        "id": "rphaPYGGJ0zF"
      }
    },
    {
      "cell_type": "markdown",
      "metadata": {
        "id": "WxsoHgnErJiR"
      },
      "source": [
        "image_to_string function extracts the information from the image\n",
        "All the info will be stored in the \"extracted_info\n",
        "\""
      ]
    }
  ]
}